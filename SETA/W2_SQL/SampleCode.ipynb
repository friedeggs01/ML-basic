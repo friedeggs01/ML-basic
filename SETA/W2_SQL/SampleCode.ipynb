{
  "cells": [
    {
      "cell_type": "code",
      "execution_count": 55,
      "metadata": {
        "id": "iuH0uUuenDA0"
      },
      "outputs": [],
      "source": [
        "MYSQL_CONFIG = {\n",
        "    \"USER_NAME\": \"intern_test\",\n",
        "    \"PASSWORD\": \"intern_test\",\n",
        "    \"HOST\": \"192.168.80.34\",\n",
        "    \"PORT\": \"2023\",\n",
        "    \"DATABASE\": \"postgres\"\n",
        "}\n",
        "\n",
        "DATA_BASE_DESIGN = \"https://dbdiagram.io/d/6526d848ffbf5169f080dc9e\""
      ]
    },
    {
      "cell_type": "code",
      "execution_count": 56,
      "metadata": {
        "id": "6aQCNxv1pIfP"
      },
      "outputs": [],
      "source": [
        "from sqlalchemy.orm import sessionmaker, Session\n",
        "from sqlalchemy.engine.url import URL\n",
        "from sqlalchemy import create_engine"
      ]
    },
    {
      "cell_type": "code",
      "execution_count": 57,
      "metadata": {
        "id": "SXzihN50oWYx"
      },
      "outputs": [],
      "source": [
        "url_object = URL.create(\n",
        "                    drivername=\"postgresql\",\n",
        "                    username=MYSQL_CONFIG[\"USER_NAME\"],\n",
        "                    password=MYSQL_CONFIG[\"PASSWORD\"],\n",
        "                    host=MYSQL_CONFIG[\"HOST\"],\n",
        "                    port=MYSQL_CONFIG[\"PORT\"],\n",
        "                    database=MYSQL_CONFIG[\"DATABASE\"],\n",
        "                )\n",
        "engine = create_engine(url_object, echo=True)\n",
        "Session_ = sessionmaker(bind=engine)\n",
        "session: Session = Session_()"
      ]
    },
    {
      "cell_type": "code",
      "execution_count": 58,
      "metadata": {
        "id": "ctiO-KM8oV-U"
      },
      "outputs": [],
      "source": [
        "from sqlalchemy import Column, Integer, String, ForeignKey, DateTime, Float\n",
        "from sqlalchemy.ext.declarative import declarative_base"
      ]
    },
    {
      "cell_type": "code",
      "execution_count": 59,
      "metadata": {
        "id": "uKNEibl0eAwv"
      },
      "outputs": [],
      "source": [
        "import enum\n",
        "class GenderEnum(enum.Enum):\n",
        "    Male = \"Male\"\n",
        "    Female = \"Female\""
      ]
    },
    {
      "cell_type": "code",
      "execution_count": 70,
      "metadata": {},
      "outputs": [
        {
          "name": "stderr",
          "output_type": "stream",
          "text": [
            "C:\\Users\\Admin\\AppData\\Local\\Temp\\ipykernel_17312\\2394198213.py:1: MovedIn20Warning: The ``declarative_base()`` function is now available as sqlalchemy.orm.declarative_base(). (deprecated since: 2.0) (Background on SQLAlchemy 2.0 at: https://sqlalche.me/e/b8d9)\n",
            "  Base = declarative_base()\n"
          ]
        },
        {
          "ename": "TypeError",
          "evalue": "Additional arguments should be named <dialectname>_<argument>, got 'ForeignKey'",
          "output_type": "error",
          "traceback": [
            "\u001b[1;31m---------------------------------------------------------------------------\u001b[0m",
            "\u001b[1;31mTypeError\u001b[0m                                 Traceback (most recent call last)",
            "\u001b[1;32md:\\HỌC ĐI BẠN TRẺ\\ML basic\\SETA\\W2_SQL\\SampleCode.ipynb Cell 6\u001b[0m line \u001b[0;36m1\n\u001b[0;32m     <a href='vscode-notebook-cell:/d%3A/H%E1%BB%8CC%20%C4%90I%20B%E1%BA%A0N%20TR%E1%BA%BA/ML%20basic/SETA/W2_SQL/SampleCode.ipynb#X24sZmlsZQ%3D%3D?line=9'>10</a>\u001b[0m     physics \u001b[39m=\u001b[39m Column(Float)\n\u001b[0;32m     <a href='vscode-notebook-cell:/d%3A/H%E1%BB%8CC%20%C4%90I%20B%E1%BA%A0N%20TR%E1%BA%BA/ML%20basic/SETA/W2_SQL/SampleCode.ipynb#X24sZmlsZQ%3D%3D?line=10'>11</a>\u001b[0m     chemistry \u001b[39m=\u001b[39m Column(Float)\n\u001b[1;32m---> <a href='vscode-notebook-cell:/d%3A/H%E1%BB%8CC%20%C4%90I%20B%E1%BA%A0N%20TR%E1%BA%BA/ML%20basic/SETA/W2_SQL/SampleCode.ipynb#X24sZmlsZQ%3D%3D?line=12'>13</a>\u001b[0m \u001b[39mclass\u001b[39;49;00m \u001b[39mStudent_authorization\u001b[39;49;00m(Base):\n\u001b[0;32m     <a href='vscode-notebook-cell:/d%3A/H%E1%BB%8CC%20%C4%90I%20B%E1%BA%A0N%20TR%E1%BA%BA/ML%20basic/SETA/W2_SQL/SampleCode.ipynb#X24sZmlsZQ%3D%3D?line=13'>14</a>\u001b[0m     __tablename__ \u001b[39m=\u001b[39;49m \u001b[39m'\u001b[39;49m\u001b[39mstudent_authorization\u001b[39;49m\u001b[39m'\u001b[39;49m\n\u001b[0;32m     <a href='vscode-notebook-cell:/d%3A/H%E1%BB%8CC%20%C4%90I%20B%E1%BA%A0N%20TR%E1%BA%BA/ML%20basic/SETA/W2_SQL/SampleCode.ipynb#X24sZmlsZQ%3D%3D?line=15'>16</a>\u001b[0m     user_authorization_id \u001b[39m=\u001b[39;49m Column(String, primary_key\u001b[39m=\u001b[39;49m\u001b[39mTrue\u001b[39;49;00m)\n",
            "\u001b[1;32md:\\HỌC ĐI BẠN TRẺ\\ML basic\\SETA\\W2_SQL\\SampleCode.ipynb Cell 6\u001b[0m line \u001b[0;36m1\n\u001b[0;32m     <a href='vscode-notebook-cell:/d%3A/H%E1%BB%8CC%20%C4%90I%20B%E1%BA%A0N%20TR%E1%BA%BA/ML%20basic/SETA/W2_SQL/SampleCode.ipynb#X24sZmlsZQ%3D%3D?line=13'>14</a>\u001b[0m __tablename__ \u001b[39m=\u001b[39m \u001b[39m'\u001b[39m\u001b[39mstudent_authorization\u001b[39m\u001b[39m'\u001b[39m\n\u001b[0;32m     <a href='vscode-notebook-cell:/d%3A/H%E1%BB%8CC%20%C4%90I%20B%E1%BA%A0N%20TR%E1%BA%BA/ML%20basic/SETA/W2_SQL/SampleCode.ipynb#X24sZmlsZQ%3D%3D?line=15'>16</a>\u001b[0m user_authorization_id \u001b[39m=\u001b[39m Column(String, primary_key\u001b[39m=\u001b[39m\u001b[39mTrue\u001b[39;00m)\n\u001b[1;32m---> <a href='vscode-notebook-cell:/d%3A/H%E1%BB%8CC%20%C4%90I%20B%E1%BA%A0N%20TR%E1%BA%BA/ML%20basic/SETA/W2_SQL/SampleCode.ipynb#X24sZmlsZQ%3D%3D?line=16'>17</a>\u001b[0m student_id \u001b[39m=\u001b[39m Column(String, ForeignKey \u001b[39m=\u001b[39;49m \u001b[39mTrue\u001b[39;49;00m)\n\u001b[0;32m     <a href='vscode-notebook-cell:/d%3A/H%E1%BB%8CC%20%C4%90I%20B%E1%BA%A0N%20TR%E1%BA%BA/ML%20basic/SETA/W2_SQL/SampleCode.ipynb#X24sZmlsZQ%3D%3D?line=17'>18</a>\u001b[0m country_id \u001b[39m=\u001b[39m Column(Integer)\n\u001b[0;32m     <a href='vscode-notebook-cell:/d%3A/H%E1%BB%8CC%20%C4%90I%20B%E1%BA%A0N%20TR%E1%BA%BA/ML%20basic/SETA/W2_SQL/SampleCode.ipynb#X24sZmlsZQ%3D%3D?line=18'>19</a>\u001b[0m created_datetime \u001b[39m=\u001b[39m Column(DateTime)\n",
            "File \u001b[1;32mc:\\Users\\Admin\\AppData\\Local\\Programs\\Python\\Python311\\Lib\\site-packages\\sqlalchemy\\sql\\schema.py:2157\u001b[0m, in \u001b[0;36mColumn.__init__\u001b[1;34m(***failed resolving arguments***)\u001b[0m\n\u001b[0;32m   2154\u001b[0m \u001b[39mif\u001b[39;00m info \u001b[39mis\u001b[39;00m \u001b[39mnot\u001b[39;00m \u001b[39mNone\u001b[39;00m:\n\u001b[0;32m   2155\u001b[0m     \u001b[39mself\u001b[39m\u001b[39m.\u001b[39minfo \u001b[39m=\u001b[39m info\n\u001b[1;32m-> 2157\u001b[0m \u001b[39mself\u001b[39;49m\u001b[39m.\u001b[39;49m_extra_kwargs(\u001b[39m*\u001b[39;49m\u001b[39m*\u001b[39;49mdialect_kwargs)\n",
            "File \u001b[1;32mc:\\Users\\Admin\\AppData\\Local\\Programs\\Python\\Python311\\Lib\\site-packages\\sqlalchemy\\sql\\schema.py:2237\u001b[0m, in \u001b[0;36mColumn._extra_kwargs\u001b[1;34m(self, **kwargs)\u001b[0m\n\u001b[0;32m   2236\u001b[0m \u001b[39mdef\u001b[39;00m \u001b[39m_extra_kwargs\u001b[39m(\u001b[39mself\u001b[39m, \u001b[39m*\u001b[39m\u001b[39m*\u001b[39mkwargs: Any) \u001b[39m-\u001b[39m\u001b[39m>\u001b[39m \u001b[39mNone\u001b[39;00m:\n\u001b[1;32m-> 2237\u001b[0m     \u001b[39mself\u001b[39;49m\u001b[39m.\u001b[39;49m_validate_dialect_kwargs(kwargs)\n",
            "File \u001b[1;32mc:\\Users\\Admin\\AppData\\Local\\Programs\\Python\\Python311\\Lib\\site-packages\\sqlalchemy\\sql\\base.py:599\u001b[0m, in \u001b[0;36mDialectKWArgs._validate_dialect_kwargs\u001b[1;34m(self, kwargs)\u001b[0m\n\u001b[0;32m    597\u001b[0m m \u001b[39m=\u001b[39m re\u001b[39m.\u001b[39mmatch(\u001b[39m\"\u001b[39m\u001b[39m^(.+?)_(.+)$\u001b[39m\u001b[39m\"\u001b[39m, k)\n\u001b[0;32m    598\u001b[0m \u001b[39mif\u001b[39;00m \u001b[39mnot\u001b[39;00m m:\n\u001b[1;32m--> 599\u001b[0m     \u001b[39mraise\u001b[39;00m \u001b[39mTypeError\u001b[39;00m(\n\u001b[0;32m    600\u001b[0m         \u001b[39m\"\u001b[39m\u001b[39mAdditional arguments should be \u001b[39m\u001b[39m\"\u001b[39m\n\u001b[0;32m    601\u001b[0m         \u001b[39m\"\u001b[39m\u001b[39mnamed <dialectname>_<argument>, got \u001b[39m\u001b[39m'\u001b[39m\u001b[39m%s\u001b[39;00m\u001b[39m'\u001b[39m\u001b[39m\"\u001b[39m \u001b[39m%\u001b[39m k\n\u001b[0;32m    602\u001b[0m     )\n\u001b[0;32m    603\u001b[0m dialect_name, arg_name \u001b[39m=\u001b[39m m\u001b[39m.\u001b[39mgroup(\u001b[39m1\u001b[39m, \u001b[39m2\u001b[39m)\n\u001b[0;32m    605\u001b[0m \u001b[39mtry\u001b[39;00m:\n",
            "\u001b[1;31mTypeError\u001b[0m: Additional arguments should be named <dialectname>_<argument>, got 'ForeignKey'"
          ]
        }
      ],
      "source": [
        "Base = declarative_base()\n",
        "\n",
        "class Student_score(Base):\n",
        "    __tablename__ = 'student_score'\n",
        "    \n",
        "    user_authorization_id = Column(String, ForeignKey('student_authorization.user_authorization_id'), primary_key=True)\n",
        "    math = Column(Float)\n",
        "    literature = Column(Float)\n",
        "    english = Column(Float)\n",
        "    physics = Column(Float)\n",
        "    chemistry = Column(Float)\n",
        "    \n",
        "class Student_authorization(Base):\n",
        "    __tablename__ = 'student_authorization'\n",
        "    \n",
        "    user_authorization_id = Column(String, primary_key=True)\n",
        "    student_id = Column(String, ForeignKey = True)\n",
        "    country_id = Column(Integer)\n",
        "    created_datetime = Column(DateTime)\n",
        "    \n",
        "class Country(Base):\n",
        "    __tablename__ = 'country'\n",
        "    \n",
        "    country_id = Column(Integer, primary_key=True)\n",
        "    country_name = Column(String)\n",
        "    area = Column(String)\n",
        "    population = Column(Integer)\n",
        "    acreage = Column(Float)\n",
        "    density = Column(Integer)\n",
        "    administration_district = Column(Integer)\n",
        "\n",
        "class Student(Base):\n",
        "    __tablename__ = 'student'\n",
        "    \n",
        "    student_id = Column(String, primary_key= True)\n",
        "    student_name = Column(String)\n",
        "    created_datetime = Column(DateTime)\n",
        "    last_modified_datetime = Column(DateTime)\n",
        "    expires_at = Column(DateTime)\n",
        "    \n",
        "class Student_information(Base):\n",
        "    __tablename__ = 'student_information'\n",
        "    \n",
        "    student_id = Column(String, ForeignKey('student.student_id'), primary_key= True)\n",
        "    country_id = Column(Integer, ForeignKey('country.country_id'), primary_key= True)\n",
        "    email = Column(String)\n",
        "    gender = Column(String)\n",
        "    date_of_birth = Column(String)\n",
        "    country_id = Column(Integer)\n",
        "    created_datetime = Column(DateTime)  \n",
        "    "
      ]
    },
    {
      "cell_type": "code",
      "execution_count": 66,
      "metadata": {
        "colab": {
          "base_uri": "https://localhost:8080/"
        },
        "id": "7EysFY70nEX8",
        "outputId": "f787033c-657b-4b41-c8e4-058f2b63b5a9"
      },
      "outputs": [
        {
          "name": "stderr",
          "output_type": "stream",
          "text": [
            "C:\\Users\\Admin\\AppData\\Local\\Temp\\ipykernel_17312\\3990254434.py:6: MovedIn20Warning: The ``declarative_base()`` function is now available as sqlalchemy.orm.declarative_base(). (deprecated since: 2.0) (Background on SQLAlchemy 2.0 at: https://sqlalche.me/e/b8d9)\n",
            "  Base = declarative_base()\n"
          ]
        }
      ],
      "source": [
        "\"\"\"\n",
        "CREATE TABLE adress ( address_id INT PRIMARY KEY, street_address VARCHAR, city VARCHAR, state VARCHAR, postal_code VARCHAR );\n",
        "CREATE TABLE customer ( customer_id INT PRIMARY KEY, address_id INT NOT NULL REFERENCES adress(address_id), first_name VARCHAR, last_name VARCHAR );\n",
        "\"\"\"\n",
        "\n",
        "Base = declarative_base()\n",
        "\n",
        "class Customer(Base):\n",
        "    __tablename__ = 'customer'\n",
        "\n",
        "    customer_id = Column(Integer, primary_key=True)\n",
        "    address_id = Column(Integer, ForeignKey('adress.address_id'), nullable=False)\n",
        "    first_name = Column(String)\n",
        "    last_name = Column(String)\n",
        "\n",
        "class Address(Base):\n",
        "    __tablename__ = 'adress'\n",
        "\n",
        "    address_id = Column(Integer, primary_key=True)\n",
        "    street_address = Column(String)\n",
        "    city = Column(String)\n",
        "    state = Column(String)\n",
        "    postal_code = Column(String)\n",
        "\n",
        "# Base.metadata.create_all(engine)"
      ]
    },
    {
      "cell_type": "markdown",
      "metadata": {
        "id": "2gxt3Z0hxxed"
      },
      "source": [
        "SELECT"
      ]
    },
    {
      "cell_type": "code",
      "execution_count": null,
      "metadata": {
        "id": "-Lpqz8Urp7Jl"
      },
      "outputs": [],
      "source": [
        "session.query(Address).filter(address_id = 1).all() # SELECT * FROM adress WHERE address_id = 1;"
      ]
    },
    {
      "cell_type": "markdown",
      "metadata": {
        "id": "wEsQNOh3xzeh"
      },
      "source": [
        "UPDATE"
      ]
    },
    {
      "cell_type": "code",
      "execution_count": null,
      "metadata": {
        "id": "lLdl0AdAvSPa"
      },
      "outputs": [],
      "source": [
        "results = session.query(Address).filter(city = 'Hanoi').all()\n",
        "for result in results:\n",
        "  result.postal_code = '00000'\n",
        "  session.commit() # UPDATE adress SET postal_code = '00000' WHERE city = 'Hanoi';"
      ]
    },
    {
      "cell_type": "markdown",
      "metadata": {
        "id": "ktqH0VyWx1K7"
      },
      "source": [
        "DELETE"
      ]
    },
    {
      "cell_type": "code",
      "execution_count": null,
      "metadata": {
        "id": "m4rQsy19wYXB"
      },
      "outputs": [],
      "source": [
        "results = session.query(Address).filter(address_id = 1).all()\n",
        "session.delete(results) # DELETE FROM adress WHERE address_id = 1;"
      ]
    },
    {
      "cell_type": "markdown",
      "metadata": {
        "id": "hv4_QhYPx2zW"
      },
      "source": [
        "INSERT"
      ]
    },
    {
      "cell_type": "code",
      "execution_count": null,
      "metadata": {
        "id": "IGCCd88SxRmX"
      },
      "outputs": [],
      "source": [
        "new_row = Customer(customer_id=1997, address_id=1, first_name='Quang', last_name='Nguyen Duy')\n",
        "session.add(new_row)\n",
        "session.commit() # INSERT INTO customer (customer_id, address_id, first_name, last_name) VALUES (1997, 1, 'Quang', 'Nguyen Duy');"
      ]
    },
    {
      "cell_type": "markdown",
      "metadata": {
        "id": "8TupSqvz__lZ"
      },
      "source": [
        "DAO (Data Access Object) SAMPLE"
      ]
    },
    {
      "cell_type": "code",
      "execution_count": null,
      "metadata": {
        "id": "Tmni4W3h__Gu"
      },
      "outputs": [],
      "source": [
        " from typing import List\n",
        " from sqlalchemy.orm import Session\n",
        "\n",
        " class CustomerDAO():\n",
        "    def __init__(self, session: Session) -> None:\n",
        "      self.session = session\n",
        "\n",
        "    def fetch(self, student_id: int) -> Customer:\n",
        "      return self.session.query(Customer).filter(student_id = student_id).first()\n",
        "\n",
        "    def fetch_all(self) -> List[Customer]:\n",
        "      return self.session.query(Customer).all()"
      ]
    },
    {
      "cell_type": "markdown",
      "metadata": {
        "id": "srfNK_0EBo88"
      },
      "source": [
        "Translator (Mapper) SAMPLE"
      ]
    },
    {
      "cell_type": "code",
      "execution_count": null,
      "metadata": {
        "id": "hol_zV6hBnfG"
      },
      "outputs": [],
      "source": [
        "class CustomerV2(Base):\n",
        "    __tablename__ = 'customer_v2'\n",
        "\n",
        "    customer_id = Column(Integer, primary_key=True)\n",
        "    address_id = Column(Integer, ForeignKey('adress.address_id'), nullable=False)\n",
        "    full_name = Column(String)\n",
        "\n",
        "\n",
        "class CustomerTranslator():\n",
        "  def __init__(self) -> None:\n",
        "     pass\n",
        "\n",
        "  def translate(self, input_customer: List[Customer]) -> List[CustomerV2]:\n",
        "    out = []\n",
        "    for input_customer_idx in input_customer:\n",
        "      out.append(CustomerV2(\n",
        "          customer_id=input_customer_idx.customer_id,\n",
        "          address_id=input_customer_idx.address_id,\n",
        "          full_name=f\"{input_customer_idx.first_name} {input_customer_idx.last_name}\"\n",
        "      ))\n",
        "    return out"
      ]
    }
  ],
  "metadata": {
    "colab": {
      "provenance": []
    },
    "kernelspec": {
      "display_name": "Python 3",
      "name": "python3"
    },
    "language_info": {
      "codemirror_mode": {
        "name": "ipython",
        "version": 3
      },
      "file_extension": ".py",
      "mimetype": "text/x-python",
      "name": "python",
      "nbconvert_exporter": "python",
      "pygments_lexer": "ipython3",
      "version": "3.11.6"
    }
  },
  "nbformat": 4,
  "nbformat_minor": 0
}
